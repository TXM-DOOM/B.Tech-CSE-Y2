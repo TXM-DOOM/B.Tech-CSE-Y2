{
 "cells": [
  {
   "cell_type": "code",
   "execution_count": 59,
   "source": [
    "from itertools import product\r\n",
    "import random"
   ],
   "outputs": [],
   "metadata": {}
  },
  {
   "cell_type": "code",
   "execution_count": 60,
   "source": [
    "def calcProbability(x):\r\n",
    "    return (len(x) / len(sampleSpaceSet))"
   ],
   "outputs": [],
   "metadata": {}
  },
  {
   "cell_type": "code",
   "execution_count": 61,
   "source": [
    "# Number of throws\r\n",
    "numberThrows = 3\r\n",
    "\r\n",
    "# Generate sample space\r\n",
    "sampleSpace = product(['H', 'T'], repeat=numberThrows)\r\n",
    "sampleSpaceSet = set(sampleSpace)"
   ],
   "outputs": [],
   "metadata": {}
  },
  {
   "cell_type": "code",
   "execution_count": 62,
   "source": [
    "sampleSpaceSet"
   ],
   "outputs": [
    {
     "output_type": "execute_result",
     "data": {
      "text/plain": [
       "{('H', 'H', 'H'),\n",
       " ('H', 'H', 'T'),\n",
       " ('H', 'T', 'H'),\n",
       " ('H', 'T', 'T'),\n",
       " ('T', 'H', 'H'),\n",
       " ('T', 'H', 'T'),\n",
       " ('T', 'T', 'H'),\n",
       " ('T', 'T', 'T')}"
      ]
     },
     "metadata": {},
     "execution_count": 62
    }
   ],
   "metadata": {}
  },
  {
   "cell_type": "code",
   "execution_count": 63,
   "source": [
    "len(sampleSpaceSet)"
   ],
   "outputs": [
    {
     "output_type": "execute_result",
     "data": {
      "text/plain": [
       "8"
      ]
     },
     "metadata": {},
     "execution_count": 63
    }
   ],
   "metadata": {}
  },
  {
   "cell_type": "markdown",
   "source": [
    "## Q1 At least one head"
   ],
   "metadata": {}
  },
  {
   "cell_type": "code",
   "execution_count": 64,
   "source": [
    "atLeastOneHead = {i for i in sampleSpaceSet if i.count('H') >=1}\r\n",
    "atLeastOneHead"
   ],
   "outputs": [
    {
     "output_type": "execute_result",
     "data": {
      "text/plain": [
       "{('H', 'H', 'H'),\n",
       " ('H', 'H', 'T'),\n",
       " ('H', 'T', 'H'),\n",
       " ('H', 'T', 'T'),\n",
       " ('T', 'H', 'H'),\n",
       " ('T', 'H', 'T'),\n",
       " ('T', 'T', 'H')}"
      ]
     },
     "metadata": {},
     "execution_count": 64
    }
   ],
   "metadata": {}
  },
  {
   "cell_type": "code",
   "execution_count": 65,
   "source": [
    "calcProbability(atLeastOneHead)"
   ],
   "outputs": [
    {
     "output_type": "execute_result",
     "data": {
      "text/plain": [
       "0.875"
      ]
     },
     "metadata": {},
     "execution_count": 65
    }
   ],
   "metadata": {}
  },
  {
   "cell_type": "markdown",
   "source": [
    "## Q2 Getting a numbered card"
   ],
   "metadata": {}
  },
  {
   "cell_type": "code",
   "execution_count": 66,
   "source": [
    "# make a deck of cards\r\n",
    "deck = set(product(['A', '2', '3', '4', '5', '6', '7', '8', '9', '10', 'J', 'Q', 'K'],['Spades','Hearts','Diamonds','Clubs']))\r\n",
    "\r\n",
    "deck"
   ],
   "outputs": [
    {
     "output_type": "execute_result",
     "data": {
      "text/plain": [
       "{('10', 'Clubs'),\n",
       " ('10', 'Diamonds'),\n",
       " ('10', 'Hearts'),\n",
       " ('10', 'Spades'),\n",
       " ('2', 'Clubs'),\n",
       " ('2', 'Diamonds'),\n",
       " ('2', 'Hearts'),\n",
       " ('2', 'Spades'),\n",
       " ('3', 'Clubs'),\n",
       " ('3', 'Diamonds'),\n",
       " ('3', 'Hearts'),\n",
       " ('3', 'Spades'),\n",
       " ('4', 'Clubs'),\n",
       " ('4', 'Diamonds'),\n",
       " ('4', 'Hearts'),\n",
       " ('4', 'Spades'),\n",
       " ('5', 'Clubs'),\n",
       " ('5', 'Diamonds'),\n",
       " ('5', 'Hearts'),\n",
       " ('5', 'Spades'),\n",
       " ('6', 'Clubs'),\n",
       " ('6', 'Diamonds'),\n",
       " ('6', 'Hearts'),\n",
       " ('6', 'Spades'),\n",
       " ('7', 'Clubs'),\n",
       " ('7', 'Diamonds'),\n",
       " ('7', 'Hearts'),\n",
       " ('7', 'Spades'),\n",
       " ('8', 'Clubs'),\n",
       " ('8', 'Diamonds'),\n",
       " ('8', 'Hearts'),\n",
       " ('8', 'Spades'),\n",
       " ('9', 'Clubs'),\n",
       " ('9', 'Diamonds'),\n",
       " ('9', 'Hearts'),\n",
       " ('9', 'Spades'),\n",
       " ('A', 'Clubs'),\n",
       " ('A', 'Diamonds'),\n",
       " ('A', 'Hearts'),\n",
       " ('A', 'Spades'),\n",
       " ('J', 'Clubs'),\n",
       " ('J', 'Diamonds'),\n",
       " ('J', 'Hearts'),\n",
       " ('J', 'Spades'),\n",
       " ('K', 'Clubs'),\n",
       " ('K', 'Diamonds'),\n",
       " ('K', 'Hearts'),\n",
       " ('K', 'Spades'),\n",
       " ('Q', 'Clubs'),\n",
       " ('Q', 'Diamonds'),\n",
       " ('Q', 'Hearts'),\n",
       " ('Q', 'Spades')}"
      ]
     },
     "metadata": {},
     "execution_count": 66
    }
   ],
   "metadata": {}
  },
  {
   "cell_type": "code",
   "execution_count": 67,
   "source": [
    "def calcProbabilityCards(x):\r\n",
    "    return (len(x) / len(deck))"
   ],
   "outputs": [],
   "metadata": {}
  },
  {
   "cell_type": "code",
   "execution_count": 68,
   "source": [
    "gettingAFaceCard = {i for i in deck if i[0] == 'A' or i[0] == 'J' or i[0] == 'Q' or i[0] == 'K'}\r\n",
    "print(gettingAFaceCard)"
   ],
   "outputs": [
    {
     "output_type": "stream",
     "name": "stdout",
     "text": [
      "{('K', 'Hearts'), ('A', 'Clubs'), ('Q', 'Clubs'), ('A', 'Diamonds'), ('J', 'Hearts'), ('Q', 'Diamonds'), ('A', 'Spades'), ('Q', 'Spades'), ('K', 'Clubs'), ('J', 'Clubs'), ('K', 'Diamonds'), ('J', 'Diamonds'), ('K', 'Spades'), ('J', 'Spades'), ('A', 'Hearts'), ('Q', 'Hearts')}\n"
     ]
    }
   ],
   "metadata": {}
  },
  {
   "cell_type": "code",
   "execution_count": 69,
   "source": [
    "gettingFaceCardProb = calcProbabilityCards(gettingAFaceCard)"
   ],
   "outputs": [],
   "metadata": {}
  },
  {
   "cell_type": "code",
   "execution_count": 70,
   "source": [
    "print(1 - gettingFaceCardProb)"
   ],
   "outputs": [
    {
     "output_type": "stream",
     "name": "stdout",
     "text": [
      "0.6923076923076923\n"
     ]
    }
   ],
   "metadata": {}
  }
 ],
 "metadata": {
  "orig_nbformat": 4,
  "language_info": {
   "name": "python",
   "version": "3.9.2",
   "mimetype": "text/x-python",
   "codemirror_mode": {
    "name": "ipython",
    "version": 3
   },
   "pygments_lexer": "ipython3",
   "nbconvert_exporter": "python",
   "file_extension": ".py"
  },
  "kernelspec": {
   "name": "python3",
   "display_name": "Python 3.9.2 64-bit"
  },
  "interpreter": {
   "hash": "d9c14bc3e06cce9659bff7a93f7820617c284163b61bf225fc55354cb1716740"
  }
 },
 "nbformat": 4,
 "nbformat_minor": 2
}