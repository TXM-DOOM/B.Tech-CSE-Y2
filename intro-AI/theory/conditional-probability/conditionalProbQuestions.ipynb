{
 "cells": [
  {
   "cell_type": "code",
   "execution_count": null,
   "source": [
    "from itertools import product\r\n",
    "import random"
   ],
   "outputs": [],
   "metadata": {}
  },
  {
   "cell_type": "code",
   "execution_count": null,
   "source": [
    "def calcProbability(x):\r\n",
    "    return (len(x) / len(sampleSpaceSet))"
   ],
   "outputs": [],
   "metadata": {}
  },
  {
   "cell_type": "code",
   "execution_count": null,
   "source": [
    "# Number of throws\r\n",
    "numberThrows = 3\r\n",
    "\r\n",
    "# Generate sample space\r\n",
    "sampleSpace = product(['H', 'T'], repeat=numberThrows)\r\n",
    "sampleSpaceSet = set(sampleSpace)"
   ],
   "outputs": [],
   "metadata": {}
  },
  {
   "cell_type": "code",
   "execution_count": null,
   "source": [
    "sampleSpaceSet"
   ],
   "outputs": [],
   "metadata": {}
  },
  {
   "cell_type": "code",
   "execution_count": null,
   "source": [
    "len(sampleSpaceSet)"
   ],
   "outputs": [],
   "metadata": {}
  },
  {
   "cell_type": "markdown",
   "source": [
    "## Q1 At least one head"
   ],
   "metadata": {}
  },
  {
   "cell_type": "code",
   "execution_count": null,
   "source": [
    "atLeastOneHead = {i for i in sampleSpaceSet if i.count('H') >=1}\r\n",
    "atLeastOneHead"
   ],
   "outputs": [],
   "metadata": {}
  },
  {
   "cell_type": "code",
   "execution_count": null,
   "source": [
    "calcProbability(atLeastOneHead)"
   ],
   "outputs": [],
   "metadata": {}
  },
  {
   "cell_type": "markdown",
   "source": [
    "## Q2 Getting a numbered card"
   ],
   "metadata": {}
  },
  {
   "cell_type": "code",
   "execution_count": null,
   "source": [
    "# make a deck of cards\r\n",
    "deck = list(product(['A', '2', '3', '4', '5', '6', '7', '8', '9', '10', 'J', 'Q', 'K'],['Spades','Hearts','Diamonds','Clubs']))\r\n",
    "\r\n",
    "deck"
   ],
   "outputs": [],
   "metadata": {}
  },
  {
   "cell_type": "code",
   "execution_count": null,
   "source": [
    "def calcProbabilityCards(x):\r\n",
    "    return (len(x) / len(deck))"
   ],
   "outputs": [],
   "metadata": {}
  },
  {
   "cell_type": "code",
   "execution_count": null,
   "source": [
    "gettingAFaceCard = {i for i in deck if i[0] == 'A' or i[0] == 'J' or i[0] == 'Q' or i[0] == 'K'}\r\n",
    "print(gettingAFaceCard)"
   ],
   "outputs": [],
   "metadata": {}
  },
  {
   "cell_type": "code",
   "execution_count": null,
   "source": [
    "gettingFaceCardProb = calcProbabilityCards(gettingAFaceCard)"
   ],
   "outputs": [],
   "metadata": {}
  },
  {
   "cell_type": "code",
   "execution_count": null,
   "source": [
    "print(1 - gettingFaceCardProb)"
   ],
   "outputs": [],
   "metadata": {}
  },
  {
   "cell_type": "markdown",
   "source": [
    "## Bonus: Shuffling the deck using the random library"
   ],
   "metadata": {}
  },
  {
   "cell_type": "code",
   "execution_count": 31,
   "source": [
    "# This only works if deck is a list and not a set\r\n",
    "random.shuffle(deck)\r\n",
    "\r\n",
    "# Take the first 10 cards in the deck\r\n",
    "deck[0:10]"
   ],
   "outputs": [
    {
     "output_type": "execute_result",
     "data": {
      "text/plain": [
       "[('K', 'Diamonds'),\n",
       " ('Q', 'Diamonds'),\n",
       " ('6', 'Diamonds'),\n",
       " ('2', 'Hearts'),\n",
       " ('6', 'Spades'),\n",
       " ('4', 'Clubs'),\n",
       " ('3', 'Clubs'),\n",
       " ('K', 'Clubs'),\n",
       " ('3', 'Hearts'),\n",
       " ('Q', 'Hearts')]"
      ]
     },
     "metadata": {},
     "execution_count": 31
    }
   ],
   "metadata": {}
  },
  {
   "cell_type": "code",
   "execution_count": null,
   "source": [
    "for i in range(5):\r\n",
    "    "
   ],
   "outputs": [],
   "metadata": {}
  }
 ],
 "metadata": {
  "orig_nbformat": 4,
  "language_info": {
   "name": "python",
   "version": "3.9.2",
   "mimetype": "text/x-python",
   "codemirror_mode": {
    "name": "ipython",
    "version": 3
   },
   "pygments_lexer": "ipython3",
   "nbconvert_exporter": "python",
   "file_extension": ".py"
  },
  "kernelspec": {
   "name": "python3",
   "display_name": "Python 3.9.2 64-bit"
  },
  "interpreter": {
   "hash": "d9c14bc3e06cce9659bff7a93f7820617c284163b61bf225fc55354cb1716740"
  }
 },
 "nbformat": 4,
 "nbformat_minor": 2
}